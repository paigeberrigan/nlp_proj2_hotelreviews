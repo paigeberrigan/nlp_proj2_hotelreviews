{
 "cells": [
  {
   "cell_type": "code",
   "execution_count": 1,
   "metadata": {},
   "outputs": [],
   "source": [
    "# notebooks/model_random_forest.ipynb"
   ]
  },
  {
   "cell_type": "code",
   "execution_count": 2,
   "metadata": {},
   "outputs": [],
   "source": [
    "# import libraries and helper fucntions \n",
    "import sys\n",
    "import os\n",
    "\n",
    "# add project root \n",
    "project_root = os.path.abspath(os.path.join(os.getcwd(), '..'))\n",
    "if project_root not in sys.path:\n",
    "    sys.path.append(project_root)\n",
    "\n",
    "\n",
    "import joblib\n",
    "from sklearn.ensemble import RandomForestClassifier\n",
    "from sklearn.metrics import accuracy_score, log_loss, classification_report\n",
    "from sklearn.ensemble import RandomForestClassifier\n",
    "import matplotlib.pyplot as plt\n",
    "import numpy as np\n",
    "from sklearn.metrics import accuracy_score, log_loss"
   ]
  },
  {
   "cell_type": "code",
   "execution_count": 3,
   "metadata": {},
   "outputs": [],
   "source": [
    "# Load target label\n",
    "y_train = joblib.load('../outputs/models/y_train_tfidf_balanced.joblib')  # this just loads in the tfidf ones since these are all the same\n",
    "\n",
    "# load the balanced datasets \n",
    "X_train_tfidf = joblib.load('../outputs/models/X_train_tfidf_balanced.joblib')\n",
    "X_train_bow = joblib.load('../outputs/models/X_train_bow_balanced.joblib')\n",
    "X_train_spacy = joblib.load('../outputs/models/X_train_spacy_balanced.joblib')"
   ]
  },
  {
   "cell_type": "code",
   "execution_count": 21,
   "metadata": {},
   "outputs": [],
   "source": [
    "# hyperparamaters for random forest \n",
    "n_estimators = 300\n",
    "max_depth = 30\n",
    "min_samples_leaf=5"
   ]
  },
  {
   "cell_type": "code",
   "execution_count": 22,
   "metadata": {},
   "outputs": [
    {
     "name": "stdout",
     "output_type": "stream",
     "text": [
      "Training Random Forest x TFIDF...\n",
      "Model saved to ../outputs/models/Random_Forest_TFIDF.joblib\n",
      "Done!\n",
      "Training Random Forest x BoW...\n",
      "Model saved to ../outputs/models/Random_Forest_BOW.joblib\n",
      "Done!\n",
      "Training Random Forest x SpaCy...\n",
      "Model saved to ../outputs/models/Random_Forest_SPACY.joblib\n",
      "Done!\n"
     ]
    }
   ],
   "source": [
    "# train RF with slected embedding technique funttion\n",
    "def train_random_forest(X_train, y_train, model_name):\n",
    "    rf = RandomForestClassifier(oob_score=True, \n",
    "                                random_state=21, \n",
    "                                n_estimators=n_estimators,\n",
    "                                max_depth=max_depth,\n",
    "                                min_samples_leaf=min_samples_leaf)\n",
    "    rf.fit(X_train, y_train)\n",
    "    model_path = f'../outputs/models/{model_name}.joblib'\n",
    "    joblib.dump(rf, model_path) # dump file to joblib \n",
    "    print(f'Model saved to {model_path}')\n",
    "\n",
    "# Random Forest x TFIDF\n",
    "print(\"Training Random Forest x TFIDF...\")\n",
    "train_random_forest(X_train_tfidf, y_train, 'Random_Forest_TFIDF')\n",
    "print(\"Done!\")\n",
    "\n",
    "# Random Forest x BOW\n",
    "print(\"Training Random Forest x BoW...\")\n",
    "train_random_forest(X_train_bow, y_train, 'Random_Forest_BOW')\n",
    "print(\"Done!\")\n",
    "\n",
    "# Random Forest x spaCy\n",
    "print(\"Training Random Forest x SpaCy...\")\n",
    "train_random_forest(X_train_spacy, y_train, 'Random_Forest_SPACY')\n",
    "print(\"Done!\")"
   ]
  },
  {
   "cell_type": "code",
   "execution_count": 24,
   "metadata": {},
   "outputs": [],
   "source": [
    "# function to calculate test loss and accuracy\n",
    "def calculate_test_metrics(model, X, y_true, embedding_name):\n",
    "    y_pred = model.predict(X)\n",
    "    y_proba = model.predict_proba(X)\n",
    "    accuracy = accuracy_score(y_true, y_pred)\n",
    "    loss = log_loss(y_true, y_proba) # didnt actually end up using loss for this \n",
    "    print(f\"Test Set ({embedding_name}) - Accuracy: {accuracy:.4f}, Loss: {loss:.4f}\")\n",
    "    return accuracy, loss\n",
    "\n",
    "# Helper function to extract OOB metrics\n",
    "def calculate_oob_metrics(model, embedding_name):\n",
    "    if hasattr(model, \"oob_score_\"):\n",
    "        oob_accuracy = model.oob_score_\n",
    "        print(f\"OOB ({embedding_name}) - Accuracy: {oob_accuracy:.4f}\")\n",
    "        return oob_accuracy\n",
    "    else:\n",
    "        print(f\"OOB ({embedding_name}) - Not Available (ensure OOB is enabled during training)\")\n",
    "        return None"
   ]
  },
  {
   "cell_type": "code",
   "execution_count": 25,
   "metadata": {},
   "outputs": [
    {
     "name": "stdout",
     "output_type": "stream",
     "text": [
      "OOB (TFIDF) - Accuracy: 0.8101\n",
      "Test Set (TFIDF) - Accuracy: 0.5484, Loss: 1.1704\n",
      "OOB (BoW) - Accuracy: 0.6137\n",
      "Test Set (BoW) - Accuracy: 0.5423, Loss: 1.1894\n",
      "OOB (SpaCy) - Accuracy: 0.8242\n",
      "Test Set (SpaCy) - Accuracy: 0.5221, Loss: 1.1559\n",
      "\n",
      "Metrics Summary:\n",
      "\n",
      "Embedding: TFIDF\n",
      "  OOB Accuracy: 0.8101063095402458\n",
      "  Test Accuracy: 0.548426445474506\n",
      "  Test Loss: 1.17042545947409\n",
      "\n",
      "Embedding: BOW\n",
      "  OOB Accuracy: 0.613723595195361\n",
      "  Test Accuracy: 0.5423273969260796\n",
      "  Test Loss: 1.1894394317677797\n",
      "\n",
      "Embedding: SpaCy\n",
      "  OOB Accuracy: 0.824216484881955\n",
      "  Test Accuracy: 0.5220785557453037\n",
      "  Test Loss: 1.1559066986629185\n",
      "\n",
      "Metrics saved successfully.\n"
     ]
    }
   ],
   "source": [
    "# Load the test data\n",
    "y_test = joblib.load('../outputs/models/y_test.joblib')\n",
    "X_test_tfidf = joblib.load('../outputs/models/X_test_tfidf.joblib')\n",
    "X_test_bow = joblib.load('../outputs/models/X_test_bow.joblib')  \n",
    "X_test_spacy = joblib.load('../outputs/models/X_test_spacy.joblib') \n",
    "\n",
    "# load in trained RF models\n",
    "rf_tfidf = joblib.load('../outputs/models/Random_Forest_TFIDF.joblib')\n",
    "rf_bow = joblib.load('../outputs/models/Random_Forest_BOW.joblib')\n",
    "rf_spacy = joblib.load('../outputs/models/Random_Forest_SPACY.joblib')\n",
    "\n",
    "# calculate OOB and test acc  + test loss\n",
    "oob_accuracies = []\n",
    "test_accuracies = []\n",
    "test_losses = []\n",
    "\n",
    "for model, X_test, embedding_name in zip(\n",
    "    [rf_tfidf, rf_bow, rf_spacy],\n",
    "    [X_test_tfidf, X_test_bow, X_test_spacy],\n",
    "    [\"TFIDF\", \"BoW\", \"SpaCy\"]\n",
    "):\n",
    "    #  OOB accuracy\n",
    "    oob_accuracy = calculate_oob_metrics(model, embedding_name)\n",
    "    oob_accuracies.append(oob_accuracy)\n",
    "    \n",
    "    #  test set metrics\n",
    "    test_accuracy, test_loss = calculate_test_metrics(model, X_test, y_test, embedding_name)\n",
    "    test_accuracies.append(test_accuracy)\n",
    "    test_losses.append(test_loss)\n",
    "\n",
    "# organize the metrics for plotting\n",
    "metrics_data = {\n",
    "    'embeddings': ['TFIDF', 'BOW', 'SpaCy'],\n",
    "    'oob_accuracies': oob_accuracies,\n",
    "    'test_accuracies': test_accuracies,\n",
    "    'test_losses': test_losses\n",
    "}\n",
    "\n",
    "# print final metrics \n",
    "print(\"\\nMetrics Summary:\")\n",
    "for i, embedding in enumerate(metrics_data['embeddings']):\n",
    "    print(f\"\\nEmbedding: {embedding}\")\n",
    "    print(f\"  OOB Accuracy: {metrics_data['oob_accuracies'][i]}\")\n",
    "    print(f\"  Test Accuracy: {metrics_data['test_accuracies'][i]}\")\n",
    "    print(f\"  Test Loss: {metrics_data['test_losses'][i]}\")\n",
    "\n",
    "print(\"\\nMetrics saved successfully.\")\n"
   ]
  },
  {
   "cell_type": "code",
   "execution_count": null,
   "metadata": {},
   "outputs": [
    {
     "data": {
      "image/png": "[encoded data removed]",
      "text/plain": [
       "<Figure size 1000x600 with 1 Axes>"
      ]
     },
     "metadata": {},
     "output_type": "display_data"
    }
   ],
   "source": [
    "# Custom color palette\n",
    "custom_palette = [\n",
    "    '#1E4436',  # Dark green\n",
    "    '#35AF8A',  # Mid green\n",
    "    '#23FEAE',  # Bright green\n",
    "]\n",
    "\n",
    "# Data for OOB and Test Set metrics (already done in metrics_data)\n",
    "embeddings = metrics_data['embeddings']\n",
    "oob_accuracies = metrics_data['oob_accuracies']  # OOB accuracies\n",
    "test_accuracies = metrics_data['test_accuracies']  # test accuracies\n",
    "\n",
    "# chart configs\n",
    "x = np.arange(len(embeddings))  # The label locations\n",
    "width = 0.35  # Width of the bars\n",
    "fig, ax = plt.subplots(figsize=(10, 6))\n",
    "\n",
    "# plot accuracy on a bar chart\n",
    "bars1 = ax.bar(x - width/2, oob_accuracies, width, label='OOB Accuracy', color=custom_palette[1], edgecolor='black')\n",
    "bars2 = ax.bar(x + width/2, test_accuracies, width, label='Test Accuracy', color=custom_palette[2], edgecolor='black')\n",
    "ax.set_xlabel('Embedding Technique', fontsize=12)\n",
    "ax.set_ylabel('Accuracy', fontsize=12)\n",
    "ax.set_xticks(x)\n",
    "ax.set_xticklabels(embeddings, fontsize=12)\n",
    "ax.set_title('OOB vs Test Accuracy Across Embedding Techniques', fontsize=14, fontweight='bold')\n",
    "\n",
    "# Add percentage labels on top of the bars\n",
    "for bar in bars1:\n",
    "    height = bar.get_height()\n",
    "    ax.text(bar.get_x() + bar.get_width() / 2, height, f'{height:.2%}', ha='center', va='bottom', fontsize=10)\n",
    "\n",
    "for bar in bars2:\n",
    "    height = bar.get_height()\n",
    "    ax.text(bar.get_x() + bar.get_width() / 2, height, f'{height:.2%}', ha='center', va='bottom', fontsize=10)\n",
    "\n",
    "\n",
    "handles, labels = ax.get_legend_handles_labels()\n",
    "fig.legend(handles, labels, loc='lower center', ncol=2, bbox_to_anchor=(0.5, -0.1), fontsize=12)\n",
    "plt.tight_layout()\n",
    "plt.subplots_adjust(bottom=0.1)  # legend below plot space\n",
    "plt.show()\n"
   ]
  },
  {
   "cell_type": "code",
   "execution_count": 27,
   "metadata": {},
   "outputs": [
    {
     "data": {
      "text/plain": [
       "['../outputs/models/Random_Forest_SPACY.joblib']"
      ]
     },
     "execution_count": 27,
     "metadata": {},
     "output_type": "execute_result"
    }
   ],
   "source": [
    "# Random Forest x TFIDF\n",
    "joblib.dump(rf_tfidf, '../outputs/models/Random_Forest_TFIDF.joblib')\n",
    "\n",
    "# Random Forest x BOW\n",
    "joblib.dump(rf_bow, '../outputs/models/Random_Forest_BOW.joblib')\n",
    "\n",
    "# Random Forest x spaCy\n",
    "joblib.dump(rf_spacy, '../outputs/models/Random_Forest_SPACY.joblib')"
   ]
  }
 ],
 "metadata": {
  "kernelspec": {
   "display_name": "Python 3",
   "language": "python",
   "name": "python3"
  },
  "language_info": {
   "codemirror_mode": {
    "name": "ipython",
    "version": 3
   },
   "file_extension": ".py",
   "mimetype": "text/x-python",
   "name": "python",
   "nbconvert_exporter": "python",
   "pygments_lexer": "ipython3",
   "version": "3.12.7"
  }
 },
 "nbformat": 4,
 "nbformat_minor": 2
}
