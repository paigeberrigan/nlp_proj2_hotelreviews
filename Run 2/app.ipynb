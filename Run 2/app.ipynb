{
 "cells": [
  {
   "cell_type": "code",
   "execution_count": 13,
   "metadata": {},
   "outputs": [],
   "source": [
    "import sys\n",
    "import os\n",
    "import gradio as gr\n",
    "import joblib\n",
    "import numpy as np\n",
    "import spacy\n",
    "import pandas as pd\n",
    "import matplotlib.pyplot as plt\n",
    "import seaborn as sns\n",
    "from tensorflow.keras.models import load_model\n",
    "from helpers.processing_helpers import clean_texts_spacy\n",
    "from PIL import Image\n"
   ]
  },
  {
   "cell_type": "code",
   "execution_count": 14,
   "metadata": {},
   "outputs": [],
   "source": [
    "# Load spaCy model\n",
    "nlp = spacy.load('en_core_web_lg')\n",
    "\n",
    "# Custom color palette\n",
    "custom_palette = ['#32d99c', '#28b683', '#1e956a', '#46e5aa', '#5bf1b8']"
   ]
  },
  {
   "cell_type": "code",
   "execution_count": 15,
   "metadata": {},
   "outputs": [],
   "source": [
    "# Load vectorizers\n",
    "tfidf_vectorizer = joblib.load('outputs/models/tfidf_vectorizer.joblib')\n",
    "bow_vectorizer = joblib.load('outputs/models/bow_vectorizer.joblib')"
   ]
  },
  {
   "cell_type": "code",
   "execution_count": 16,
   "metadata": {},
   "outputs": [],
   "source": [
    "# Load models\n",
    "models = {\n",
    "    'Random Forest': {\n",
    "        'TFIDF': joblib.load('outputs/models/Random_Forest_TFIDF.joblib'),\n",
    "        'BOW': joblib.load('outputs/models/Random_Forest_BOW.joblib'),\n",
    "        'SPACY': joblib.load('outputs/models/Random_Forest_SPACY.joblib'),\n",
    "    },\n",
    "    'Neural Network': {\n",
    "        'TFIDF': load_model('outputs/models/Neural_Network_TFIDF.keras'),\n",
    "        'BOW': load_model('outputs/models/Neural_Network_BOW.keras'),\n",
    "        'SPACY': load_model('outputs/models/Neural_Network_SPACY.keras'),\n",
    "    }\n",
    "}"
   ]
  },
  {
   "cell_type": "code",
   "execution_count": 17,
   "metadata": {},
   "outputs": [],
   "source": [
    "def predict_review(model_name, embedding_name, review_text):\n",
    "    # Preprocess the review text\n",
    "    try:\n",
    "        # Convert the review text to a Pandas Series\n",
    "        review_series = pd.Series([review_text])\n",
    "        cleaned_text = clean_texts_spacy(review_series)[0]\n",
    "    except Exception as e:\n",
    "        return f\"Error in preprocessing input: {str(e)}\"\n",
    "    \n",
    "    # Vectorize the input text\n",
    "    try:\n",
    "        if embedding_name == 'TFIDF':\n",
    "            X_input = tfidf_vectorizer.transform([cleaned_text])\n",
    "        elif embedding_name == 'BOW':\n",
    "            X_input = bow_vectorizer.transform([cleaned_text])\n",
    "        elif embedding_name == 'SPACY':\n",
    "            doc = nlp(cleaned_text)\n",
    "            X_input = np.array([doc.vector])\n",
    "        else:\n",
    "            return \"Invalid embedding method selected.\"\n",
    "    except Exception as e:\n",
    "        return f\"Error in vectorizing input: {str(e)}\"\n",
    "    \n",
    "    # Get the selected model\n",
    "    model = models.get(model_name, {}).get(embedding_name)\n",
    "    if model is None:\n",
    "        return f\"Model not available for {model_name} with {embedding_name} embedding.\"\n",
    "    \n",
    "    # Make prediction\n",
    "    try:\n",
    "        if model_name == 'Neural Network':\n",
    "            if embedding_name in ['TFIDF', 'BOW']:\n",
    "                X_input = X_input.toarray()\n",
    "            probabilities = model.predict(X_input)\n",
    "            predicted_class = np.argmax(probabilities, axis=1)[0] + 1  # move class index (1-5)\n",
    "            confidence = np.max(probabilities)\n",
    "        else:\n",
    "            probabilities = model.predict_proba(X_input)\n",
    "            predicted_class = model.predict(X_input)[0]\n",
    "            confidence = np.max(probabilities)\n",
    "        \n",
    "        # Generate confidence plot\n",
    "        fig, ax = plt.subplots(figsize=(5, 3))\n",
    "        ax.bar(range(1, 6), probabilities.flatten(), color=custom_palette)\n",
    "        ax.set_xlabel('Ratings', fontsize=14)\n",
    "        ax.set_ylabel('Confidence', fontsize=14)\n",
    "        ax.set_title('Model Confidence for Each Rating', fontsize=16)\n",
    "        plt.tight_layout()\n",
    "        confidence_plot_path = 'outputs/figures/confidence_plot.png'\n",
    "        plt.savefig(confidence_plot_path)\n",
    "        plt.close()\n",
    "\n",
    "        return f\"Predicted Rating: {predicted_class}\\nConfidence: {confidence:.2f}\", confidence_plot_path\n",
    "    except Exception as e:\n",
    "        return f\"Error in making prediction: {str(e)}\""
   ]
  },
  {
   "cell_type": "code",
   "execution_count": null,
   "metadata": {},
   "outputs": [
    {
     "name": "stdout",
     "output_type": "stream",
     "text": [
      "* Running on local URL:  http://127.0.0.1:7865\n",
      "\n",
      "To create a public link, set `share=True` in `launch()`.\n"
     ]
    },
    {
     "data": {
      "text/html": [
       "<div><iframe src=\"http://127.0.0.1:7865/\" width=\"100%\" height=\"500\" allow=\"autoplay; camera; microphone; clipboard-read; clipboard-write;\" frameborder=\"0\" allowfullscreen></iframe></div>"
      ],
      "text/plain": [
       "<IPython.core.display.HTML object>"
      ]
     },
     "metadata": {},
     "output_type": "display_data"
    },
    {
     "data": {
      "text/plain": []
     },
     "execution_count": 18,
     "metadata": {},
     "output_type": "execute_result"
    },
    {
     "name": "stdout",
     "output_type": "stream",
     "text": [
      "WARNING:tensorflow:5 out of the last 5 calls to <function TensorFlowTrainer.make_predict_function.<locals>.one_step_on_data_distributed at 0x0000018403FDE020> triggered tf.function retracing. Tracing is expensive and the excessive number of tracings could be due to (1) creating @tf.function repeatedly in a loop, (2) passing tensors with different shapes, (3) passing Python objects instead of tensors. For (1), please define your @tf.function outside of the loop. For (2), @tf.function has reduce_retracing=True option that can avoid unnecessary retracing. For (3), please refer to https://www.tensorflow.org/guide/function#controlling_retracing and https://www.tensorflow.org/api_docs/python/tf/function for  more details.\n",
      "\u001b[1m1/1\u001b[0m \u001b[32m━━━━━━━━━━━━━━━━━━━━\u001b[0m\u001b[37m\u001b[0m \u001b[1m0s\u001b[0m 363ms/step\n",
      "\u001b[1m1/1\u001b[0m \u001b[32m━━━━━━━━━━━━━━━━━━━━\u001b[0m\u001b[37m\u001b[0m \u001b[1m0s\u001b[0m 95ms/step\n",
      "WARNING:tensorflow:6 out of the last 7 calls to <function TensorFlowTrainer.make_predict_function.<locals>.one_step_on_data_distributed at 0x000001840510A2A0> triggered tf.function retracing. Tracing is expensive and the excessive number of tracings could be due to (1) creating @tf.function repeatedly in a loop, (2) passing tensors with different shapes, (3) passing Python objects instead of tensors. For (1), please define your @tf.function outside of the loop. For (2), @tf.function has reduce_retracing=True option that can avoid unnecessary retracing. For (3), please refer to https://www.tensorflow.org/guide/function#controlling_retracing and https://www.tensorflow.org/api_docs/python/tf/function for  more details.\n",
      "\u001b[1m1/1\u001b[0m \u001b[32m━━━━━━━━━━━━━━━━━━━━\u001b[0m\u001b[37m\u001b[0m \u001b[1m0s\u001b[0m 94ms/step\n",
      "\u001b[1m1/1\u001b[0m \u001b[32m━━━━━━━━━━━━━━━━━━━━\u001b[0m\u001b[37m\u001b[0m \u001b[1m0s\u001b[0m 42ms/step\n"
     ]
    }
   ],
   "source": [
    "def gradio_interface(model_name, embedding_name, review_text):\n",
    "    prediction, confidence_plot_path = predict_review(model_name, embedding_name, review_text)\n",
    "    return prediction, confidence_plot_path\n",
    "\n",
    "iface = gr.Interface(\n",
    "    fn=gradio_interface,\n",
    "    inputs=[\n",
    "        gr.Dropdown(choices=['Random Forest', 'Neural Network'], label=\"Select Model\"),\n",
    "        gr.Dropdown(choices=['TFIDF', 'BOW', 'SPACY'], label=\"Select Embedding Technique\"),\n",
    "        gr.Textbox(lines=5, placeholder=\"Enter your review here...\", label=\"Review Text\"),\n",
    "    ],\n",
    "    outputs=[\n",
    "        gr.Textbox(label=\"Prediction\"),\n",
    "        gr.Image(type='filepath', label=\"Confidence Plot\"),\n",
    "    ],\n",
    "    title=\"Hotel Review Rating Prediction\",\n",
    "    description=\"Select a model and embedding technique, enter a hotel review, and see the predicted rating and confidence, along with visual analysis.\",\n",
    ")\n",
    "\n",
    "iface.launch()\n"
   ]
  }
 ],
 "metadata": {
  "kernelspec": {
   "display_name": "Python 3",
   "language": "python",
   "name": "python3"
  },
  "language_info": {
   "codemirror_mode": {
    "name": "ipython",
    "version": 3
   },
   "file_extension": ".py",
   "mimetype": "text/x-python",
   "name": "python",
   "nbconvert_exporter": "python",
   "pygments_lexer": "ipython3",
   "version": "3.12.7"
  }
 },
 "nbformat": 4,
 "nbformat_minor": 2
}
