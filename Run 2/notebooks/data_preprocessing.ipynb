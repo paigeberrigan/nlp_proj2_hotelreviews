{
 "cells": [
  {
   "cell_type": "code",
   "execution_count": 1,
   "metadata": {},
   "outputs": [],
   "source": [
    "# set project root and dir\n",
    "import sys\n",
    "import os\n",
    "\n",
    "project_root = os.path.abspath(os.path.join(os.getcwd(), '..'))\n",
    "# Add the project root to the system path\n",
    "if project_root not in sys.path:\n",
    "    sys.path.append(project_root)"
   ]
  },
  {
   "cell_type": "code",
   "execution_count": 2,
   "metadata": {},
   "outputs": [],
   "source": [
    "# import libraries and helpers\n",
    "import pandas as pd\n",
    "from helpers.processing_helpers import define_dataset, clean_texts_spacy\n",
    "from helpers.visualization_helpers import plot_class_distribution\n",
    "from sklearn.model_selection import train_test_split\n",
    "from sklearn.feature_extraction.text import TfidfVectorizer, CountVectorizer\n",
    "from imblearn.over_sampling import SMOTE\n",
    "import joblib\n",
    "import spacy\n",
    "import numpy as np"
   ]
  },
  {
   "cell_type": "code",
   "execution_count": 3,
   "metadata": {},
   "outputs": [
    {
     "name": "stdout",
     "output_type": "stream",
     "text": [
      "Dataset Loaded Successfully!\n",
      "\n",
      "Dataset Overview:\n"
     ]
    },
    {
     "data": {
      "text/html": [
       "<div>\n",
       "<style scoped>\n",
       "    .dataframe tbody tr th:only-of-type {\n",
       "        vertical-align: middle;\n",
       "    }\n",
       "\n",
       "    .dataframe tbody tr th {\n",
       "        vertical-align: top;\n",
       "    }\n",
       "\n",
       "    .dataframe thead th {\n",
       "        text-align: right;\n",
       "    }\n",
       "</style>\n",
       "<table border=\"1\" class=\"dataframe\">\n",
       "  <thead>\n",
       "    <tr style=\"text-align: right;\">\n",
       "      <th></th>\n",
       "      <th>Review</th>\n",
       "      <th>Rating</th>\n",
       "    </tr>\n",
       "  </thead>\n",
       "  <tbody>\n",
       "    <tr>\n",
       "      <th>0</th>\n",
       "      <td>nice hotel expensive parking got good deal sta...</td>\n",
       "      <td>4</td>\n",
       "    </tr>\n",
       "    <tr>\n",
       "      <th>1</th>\n",
       "      <td>ok nothing special charge diamond member hilto...</td>\n",
       "      <td>2</td>\n",
       "    </tr>\n",
       "    <tr>\n",
       "      <th>2</th>\n",
       "      <td>nice rooms not 4* experience hotel monaco seat...</td>\n",
       "      <td>3</td>\n",
       "    </tr>\n",
       "    <tr>\n",
       "      <th>3</th>\n",
       "      <td>unique, great stay, wonderful time hotel monac...</td>\n",
       "      <td>5</td>\n",
       "    </tr>\n",
       "    <tr>\n",
       "      <th>4</th>\n",
       "      <td>great stay great stay, went seahawk game aweso...</td>\n",
       "      <td>5</td>\n",
       "    </tr>\n",
       "  </tbody>\n",
       "</table>\n",
       "</div>"
      ],
      "text/plain": [
       "                                              Review  Rating\n",
       "0  nice hotel expensive parking got good deal sta...       4\n",
       "1  ok nothing special charge diamond member hilto...       2\n",
       "2  nice rooms not 4* experience hotel monaco seat...       3\n",
       "3  unique, great stay, wonderful time hotel monac...       5\n",
       "4  great stay great stay, went seahawk game aweso...       5"
      ]
     },
     "metadata": {},
     "output_type": "display_data"
    }
   ],
   "source": [
    "# Load spaCy model\n",
    "nlp = spacy.load('en_core_web_lg')\n",
    "\n",
    "\n",
    "# define path located in dir\n",
    "file_path = '../tripadvisor_hotel_reviews.csv'\n",
    "\n",
    "# make sure the file is there and the path is correct \n",
    "if os.path.exists(file_path):\n",
    "    full_df, reviews_df, ratings_df = define_dataset(file_path)\n",
    "    print(\"Dataset Loaded Successfully!\")\n",
    "    print(\"\\nDataset Overview:\")\n",
    "    display(full_df.head())\n",
    "else:\n",
    "    raise FileNotFoundError(f\"Dataset not found at path: {file_path}\")"
   ]
  },
  {
   "cell_type": "code",
   "execution_count": 4,
   "metadata": {},
   "outputs": [
    {
     "name": "stdout",
     "output_type": "stream",
     "text": [
      "\n",
      "Sample of Cleaned Reviews:\n"
     ]
    },
    {
     "data": {
      "text/html": [
       "<div>\n",
       "<style scoped>\n",
       "    .dataframe tbody tr th:only-of-type {\n",
       "        vertical-align: middle;\n",
       "    }\n",
       "\n",
       "    .dataframe tbody tr th {\n",
       "        vertical-align: top;\n",
       "    }\n",
       "\n",
       "    .dataframe thead th {\n",
       "        text-align: right;\n",
       "    }\n",
       "</style>\n",
       "<table border=\"1\" class=\"dataframe\">\n",
       "  <thead>\n",
       "    <tr style=\"text-align: right;\">\n",
       "      <th></th>\n",
       "      <th>Review</th>\n",
       "      <th>cleaned_review</th>\n",
       "    </tr>\n",
       "  </thead>\n",
       "  <tbody>\n",
       "    <tr>\n",
       "      <th>0</th>\n",
       "      <td>nice hotel expensive parking got good deal sta...</td>\n",
       "      <td>nice hotel expensive parking get good deal sta...</td>\n",
       "    </tr>\n",
       "    <tr>\n",
       "      <th>1</th>\n",
       "      <td>ok nothing special charge diamond member hilto...</td>\n",
       "      <td>ok special charge diamond member hilton decide...</td>\n",
       "    </tr>\n",
       "    <tr>\n",
       "      <th>2</th>\n",
       "      <td>nice rooms not 4* experience hotel monaco seat...</td>\n",
       "      <td>nice room 4 experience hotel monaco seattle go...</td>\n",
       "    </tr>\n",
       "    <tr>\n",
       "      <th>3</th>\n",
       "      <td>unique, great stay, wonderful time hotel monac...</td>\n",
       "      <td>unique great stay wonderful time hotel monaco ...</td>\n",
       "    </tr>\n",
       "    <tr>\n",
       "      <th>4</th>\n",
       "      <td>great stay great stay, went seahawk game aweso...</td>\n",
       "      <td>great stay great stay go seahawk game awesome ...</td>\n",
       "    </tr>\n",
       "  </tbody>\n",
       "</table>\n",
       "</div>"
      ],
      "text/plain": [
       "                                              Review  \\\n",
       "0  nice hotel expensive parking got good deal sta...   \n",
       "1  ok nothing special charge diamond member hilto...   \n",
       "2  nice rooms not 4* experience hotel monaco seat...   \n",
       "3  unique, great stay, wonderful time hotel monac...   \n",
       "4  great stay great stay, went seahawk game aweso...   \n",
       "\n",
       "                                      cleaned_review  \n",
       "0  nice hotel expensive parking get good deal sta...  \n",
       "1  ok special charge diamond member hilton decide...  \n",
       "2  nice room 4 experience hotel monaco seattle go...  \n",
       "3  unique great stay wonderful time hotel monaco ...  \n",
       "4  great stay great stay go seahawk game awesome ...  "
      ]
     },
     "metadata": {},
     "output_type": "display_data"
    }
   ],
   "source": [
    "# Clean the review texts using spaCy\n",
    "reviews_df['cleaned_review'] = clean_texts_spacy(reviews_df['Review'])\n",
    "\n",
    "# Display sample cleaned reviews\n",
    "print(\"\\nSample of Cleaned Reviews:\")\n",
    "display(reviews_df[['Review', 'cleaned_review']].head())"
   ]
  },
  {
   "cell_type": "code",
   "execution_count": 15,
   "metadata": {},
   "outputs": [
    {
     "name": "stdout",
     "output_type": "stream",
     "text": [
      "Figure saved to ../outputs/figures/original_class_distribution.png\n"
     ]
    },
    {
     "data": {
      "image/png": "[encoded data removed]",
      "text/plain": [
       "<Figure size 800x500 with 1 Axes>"
      ]
     },
     "metadata": {},
     "output_type": "display_data"
    }
   ],
   "source": [
    "# EDA\n",
    "\n",
    "# plot original class distribition\n",
    "plot_class_distribution(\n",
    "    ratings_df['Rating'], \n",
    "    title=\"Original Class Distribution\", \n",
    "    save_path='../outputs/figures/original_class_distribution.png'\n",
    ")"
   ]
  },
  {
   "cell_type": "code",
   "execution_count": 6,
   "metadata": {},
   "outputs": [
    {
     "name": "stdout",
     "output_type": "stream",
     "text": [
      "\n",
      "Training set size: 16392\n",
      "Testing set size: 4099\n"
     ]
    }
   ],
   "source": [
    "# split testing and training data \n",
    "X = reviews_df['cleaned_review']\n",
    "y = ratings_df['Rating']\n",
    "\n",
    "X_train, X_test, y_train, y_test = train_test_split(\n",
    "    X, y, test_size=0.2, random_state=21, stratify=y\n",
    ")\n",
    "\n",
    "print(f\"\\nTraining set size: {len(X_train)}\")\n",
    "print(f\"Testing set size: {len(X_test)}\")\n"
   ]
  },
  {
   "cell_type": "code",
   "execution_count": 7,
   "metadata": {},
   "outputs": [],
   "source": [
    "# different vectorization methods \n",
    "\n",
    "# Initialize fit and tranform TFIDF\n",
    "tfidf_vectorizer = TfidfVectorizer(max_features=5000)\n",
    "X_train_tfidf = tfidf_vectorizer.fit_transform(X_train)\n",
    "X_test_tfidf = tfidf_vectorizer.transform(X_test)\n",
    "\n",
    "# initialize fit and transform bag of words\n",
    "bow_vectorizer = CountVectorizer(max_features=5000)\n",
    "X_train_bow = bow_vectorizer.fit_transform(X_train)\n",
    "X_test_bow = bow_vectorizer.transform(X_test)\n",
    "\n",
    "# spacy word embeddings\n",
    "def spacy_vectorizer(texts, nlp_model):\n",
    "    vectors = []\n",
    "    for doc in nlp_model.pipe(texts, disable=[\"parser\", \"ner\"]):\n",
    "        vectors.append(doc.vector)\n",
    "    return np.array(vectors)\n",
    "\n",
    "# get spacy features\n",
    "X_train_spacy = spacy_vectorizer(X_train, nlp)\n",
    "X_test_spacy = spacy_vectorizer(X_test, nlp)"
   ]
  },
  {
   "cell_type": "code",
   "execution_count": 8,
   "metadata": {},
   "outputs": [
    {
     "name": "stdout",
     "output_type": "stream",
     "text": [
      "\n",
      "Vectorization complete and vectorizers saved.\n"
     ]
    }
   ],
   "source": [
    "# save vectorizers\n",
    "joblib.dump(tfidf_vectorizer, '../outputs/models/tfidf_vectorizer.joblib')\n",
    "joblib.dump(bow_vectorizer, '../outputs/models/bow_vectorizer.joblib')\n",
    "joblib.dump(nlp, '../outputs/models/spacy_model.joblib')\n",
    "\n",
    "print(\"\\nVectorization complete and vectorizers saved.\")"
   ]
  },
  {
   "cell_type": "code",
   "execution_count": 11,
   "metadata": {},
   "outputs": [
    {
     "name": "stdout",
     "output_type": "stream",
     "text": [
      "Figure saved to ../outputs/figures/original_class_distribution.png\n"
     ]
    },
    {
     "data": {
      "image/png": "[encoded data removed]",
      "text/plain": [
       "<Figure size 800x500 with 1 Axes>"
      ]
     },
     "metadata": {},
     "output_type": "display_data"
    },
    {
     "name": "stdout",
     "output_type": "stream",
     "text": [
      "\n",
      "Class distribution after SMOTE:\n",
      "TF-IDF Balanced: Rating\n",
      "1    7243\n",
      "2    7243\n",
      "3    7243\n",
      "4    7243\n",
      "5    7243\n",
      "Name: count, dtype: int64\n",
      "BoW Balanced: Rating\n",
      "1    7243\n",
      "2    7243\n",
      "3    7243\n",
      "4    7243\n",
      "5    7243\n",
      "Name: count, dtype: int64\n",
      "spaCy Balanced: Rating\n",
      "1    7243\n",
      "2    7243\n",
      "3    7243\n",
      "4    7243\n",
      "5    7243\n",
      "Name: count, dtype: int64\n"
     ]
    }
   ],
   "source": [
    "# Initialize SMOTE to balence classes\n",
    "smote = SMOTE(random_state=21)\n",
    "\n",
    "# SMOTE for each word embedding technique\n",
    "X_train_tfidf_balanced, y_train_tfidf_balanced = smote.fit_resample(X_train_tfidf, y_train)\n",
    "X_train_bow_balanced, y_train_bow_balanced = smote.fit_resample(X_train_bow, y_train)\n",
    "X_train_spacy_balanced, y_train_spacy_balanced = smote.fit_resample(X_train_spacy, y_train)\n",
    "\n",
    "# plot  new class distribution\n",
    "plot_class_distribution(\n",
    "    y_train_tfidf_balanced, #these are all the same # (as shown below) so just plot one \n",
    "    title=\"SMOTE Balanced Class Distribution\", \n",
    "    save_path='../outputs/figures/original_class_distribution.png'\n",
    ")\n",
    "\n",
    "print(\"\\nClass distribution after SMOTE:\")\n",
    "print(\"TF-IDF Balanced:\", pd.Series(y_train_tfidf_balanced).value_counts(sort=False).sort_index())\n",
    "print(\"BoW Balanced:\", pd.Series(y_train_bow_balanced).value_counts(sort=False).sort_index())\n",
    "print(\"spaCy Balanced:\", pd.Series(y_train_spacy_balanced).value_counts(sort=False).sort_index())"
   ]
  },
  {
   "cell_type": "code",
   "execution_count": 10,
   "metadata": {},
   "outputs": [
    {
     "name": "stdout",
     "output_type": "stream",
     "text": [
      "\n",
      "Preprocessed data saved successfully!\n"
     ]
    }
   ],
   "source": [
    "# save everything to outputs -> models\n",
    "joblib.dump(X_train_tfidf_balanced, '../outputs/models/X_train_tfidf_balanced.joblib')\n",
    "joblib.dump(y_train_tfidf_balanced, '../outputs/models/y_train_tfidf_balanced.joblib')\n",
    "\n",
    "joblib.dump(X_train_bow_balanced, '../outputs/models/X_train_bow_balanced.joblib')\n",
    "joblib.dump(y_train_bow_balanced, '../outputs/models/y_train_bow_balanced.joblib')\n",
    "\n",
    "joblib.dump(X_train_spacy_balanced, '../outputs/models/X_train_spacy_balanced.joblib')\n",
    "joblib.dump(y_train_spacy_balanced, '../outputs/models/y_train_spacy_balanced.joblib')\n",
    "\n",
    "joblib.dump(X_test_tfidf, '../outputs/models/X_test_tfidf.joblib')\n",
    "joblib.dump(y_test, '../outputs/models/y_test.joblib')\n",
    "\n",
    "print(\"\\nPreprocessed data saved successfully!\")\n"
   ]
  }
 ],
 "metadata": {
  "kernelspec": {
   "display_name": "Python 3",
   "language": "python",
   "name": "python3"
  },
  "language_info": {
   "codemirror_mode": {
    "name": "ipython",
    "version": 3
   },
   "file_extension": ".py",
   "mimetype": "text/x-python",
   "name": "python",
   "nbconvert_exporter": "python",
   "pygments_lexer": "ipython3",
   "version": "3.12.7"
  }
 },
 "nbformat": 4,
 "nbformat_minor": 2
}
