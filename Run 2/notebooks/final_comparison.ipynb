{
 "cells": [
  {
   "cell_type": "code",
   "execution_count": 1,
   "metadata": {},
   "outputs": [],
   "source": [
    "# notebooks/final_comparison.ipynb\n",
    "\n",
    "# Section 1: Import Libraries and Helpers\n",
    "import sys\n",
    "import os\n",
    "\n",
    "project_root = os.path.abspath(os.path.join(os.getcwd(), '..'))\n",
    "# Add the project root to the system path\n",
    "if project_root not in sys.path:\n",
    "    sys.path.append(project_root)\n",
    "\n",
    "\n",
    "# Section 1: Import Libraries and Helpers\n",
    "\n",
    "import joblib\n",
    "import pandas as pd\n",
    "import matplotlib.pyplot as plt\n",
    "import seaborn as sns\n",
    "from helpers.visualization_helpers import plot_confusion_matrix\n",
    "from tensorflow.keras.models import load_model\n"
   ]
  },
  {
   "cell_type": "code",
   "execution_count": 2,
   "metadata": {},
   "outputs": [
    {
     "name": "stdout",
     "output_type": "stream",
     "text": [
      "Test data loaded successfully.\n"
     ]
    },
    {
     "ename": "FileNotFoundError",
     "evalue": "[Errno 2] No such file or directory: '../outputs/models/random_forest_model.joblib'",
     "output_type": "error",
     "traceback": [
      "\u001b[1;31m---------------------------------------------------------------------------\u001b[0m",
      "\u001b[1;31mFileNotFoundError\u001b[0m                         Traceback (most recent call last)",
      "Cell \u001b[1;32mIn[2], line 8\u001b[0m\n\u001b[0;32m      4\u001b[0m \u001b[38;5;28mprint\u001b[39m(\u001b[38;5;124m\"\u001b[39m\u001b[38;5;124mTest data loaded successfully.\u001b[39m\u001b[38;5;124m\"\u001b[39m)\n\u001b[0;32m      6\u001b[0m \u001b[38;5;66;03m# Load models\u001b[39;00m\n\u001b[0;32m      7\u001b[0m models \u001b[38;5;241m=\u001b[39m {\n\u001b[1;32m----> 8\u001b[0m     \u001b[38;5;124m'\u001b[39m\u001b[38;5;124mRandom Forest\u001b[39m\u001b[38;5;124m'\u001b[39m: \u001b[43mjoblib\u001b[49m\u001b[38;5;241;43m.\u001b[39;49m\u001b[43mload\u001b[49m\u001b[43m(\u001b[49m\u001b[38;5;124;43m'\u001b[39;49m\u001b[38;5;124;43m../outputs/models/random_forest_model.joblib\u001b[39;49m\u001b[38;5;124;43m'\u001b[39;49m\u001b[43m)\u001b[49m,\n\u001b[0;32m      9\u001b[0m     \u001b[38;5;124m'\u001b[39m\u001b[38;5;124mLogistic Regression\u001b[39m\u001b[38;5;124m'\u001b[39m: joblib\u001b[38;5;241m.\u001b[39mload(\u001b[38;5;124m'\u001b[39m\u001b[38;5;124m../outputs/models/logistic_regression_model.joblib\u001b[39m\u001b[38;5;124m'\u001b[39m),\n\u001b[0;32m     10\u001b[0m     \u001b[38;5;124m'\u001b[39m\u001b[38;5;124mNeural Network\u001b[39m\u001b[38;5;124m'\u001b[39m: load_model(\u001b[38;5;124m'\u001b[39m\u001b[38;5;124m../outputs/models/neural_network_model.keras\u001b[39m\u001b[38;5;124m'\u001b[39m)  \u001b[38;5;66;03m# Updated Keras model\u001b[39;00m\n\u001b[0;32m     11\u001b[0m \n\u001b[0;32m     12\u001b[0m }\n\u001b[0;32m     14\u001b[0m results \u001b[38;5;241m=\u001b[39m {}\n\u001b[0;32m     17\u001b[0m \u001b[38;5;66;03m####### NN PREDS \u001b[39;00m\n\u001b[0;32m     18\u001b[0m \n\u001b[0;32m     19\u001b[0m \u001b[38;5;66;03m# Convert sparse matrix to dense for Neural Network\u001b[39;00m\n",
      "File \u001b[1;32m~\\AppData\\Local\\Packages\\PythonSoftwareFoundation.Python.3.12_qbz5n2kfra8p0\\LocalCache\\local-packages\\Python312\\site-packages\\joblib\\numpy_pickle.py:650\u001b[0m, in \u001b[0;36mload\u001b[1;34m(filename, mmap_mode)\u001b[0m\n\u001b[0;32m    648\u001b[0m         obj \u001b[38;5;241m=\u001b[39m _unpickle(fobj)\n\u001b[0;32m    649\u001b[0m \u001b[38;5;28;01melse\u001b[39;00m:\n\u001b[1;32m--> 650\u001b[0m     \u001b[38;5;28;01mwith\u001b[39;00m \u001b[38;5;28;43mopen\u001b[39;49m\u001b[43m(\u001b[49m\u001b[43mfilename\u001b[49m\u001b[43m,\u001b[49m\u001b[43m \u001b[49m\u001b[38;5;124;43m'\u001b[39;49m\u001b[38;5;124;43mrb\u001b[39;49m\u001b[38;5;124;43m'\u001b[39;49m\u001b[43m)\u001b[49m \u001b[38;5;28;01mas\u001b[39;00m f:\n\u001b[0;32m    651\u001b[0m         \u001b[38;5;28;01mwith\u001b[39;00m _read_fileobject(f, filename, mmap_mode) \u001b[38;5;28;01mas\u001b[39;00m fobj:\n\u001b[0;32m    652\u001b[0m             \u001b[38;5;28;01mif\u001b[39;00m \u001b[38;5;28misinstance\u001b[39m(fobj, \u001b[38;5;28mstr\u001b[39m):\n\u001b[0;32m    653\u001b[0m                 \u001b[38;5;66;03m# if the returned file object is a string, this means we\u001b[39;00m\n\u001b[0;32m    654\u001b[0m                 \u001b[38;5;66;03m# try to load a pickle file generated with an version of\u001b[39;00m\n\u001b[0;32m    655\u001b[0m                 \u001b[38;5;66;03m# Joblib so we load it with joblib compatibility function.\u001b[39;00m\n",
      "\u001b[1;31mFileNotFoundError\u001b[0m: [Errno 2] No such file or directory: '../outputs/models/random_forest_model.joblib'"
     ]
    }
   ],
   "source": [
    "X_test = joblib.load('../outputs/models/X_test_tfidf.joblib')\n",
    "y_test = joblib.load('../outputs/models/y_test.joblib')\n",
    "\n",
    "print(\"Test data loaded successfully.\")\n",
    "\n",
    "# Load models\n",
    "models = {\n",
    "    'Random Forest': joblib.load('../outputs/models/random_forest_model.joblib'),\n",
    "    'Logistic Regression': joblib.load('../outputs/models/logistic_regression_model.joblib'),\n",
    "    'Neural Network': load_model('../outputs/models/neural_network_model.keras')  # Updated Keras model\n",
    "\n",
    "}\n",
    "\n",
    "results = {}\n",
    "\n",
    "\n",
    "####### NN PREDS \n",
    "\n",
    "# Convert sparse matrix to dense for Neural Network\n",
    "X_test_dense = X_test.toarray()\n",
    "\n",
    "# Neural Network predictions\n",
    "nn_model = load_model('../outputs/models/neural_network_model.keras')\n",
    "y_pred_nn_probs = nn_model.predict(X_test_dense)\n",
    "y_pred_nn = np.argmax(y_pred_nn_probs, axis=1) + 1  # Adjust labels back to 1-5\n",
    "\n",
    "# Iterate through models\n",
    "for name, model in models.items():\n",
    "    if name == 'Neural Network':\n",
    "        y_pred = y_pred_nn\n",
    "    else:\n",
    "        y_pred = model.predict(X_test)\n",
    "    # Calculate metrics\n",
    "    from sklearn.metrics import accuracy_score, precision_recall_fscore_support\n",
    "    accuracy = accuracy_score(y_test, y_pred)\n",
    "    precision, recall, f1, _ = precision_recall_fscore_support(y_test, y_pred, average='weighted')\n",
    "    results[name] = {\n",
    "        'Accuracy': accuracy,\n",
    "        'Precision': precision,\n",
    "        'Recall': recall,\n",
    "        'F1-Score': f1\n",
    "    }\n",
    "    \n",
    "    # Plot confusion matrix for each model\n",
    "    plot_confusion_matrix(y_test, y_pred, \n",
    "                                 classes=[1, 2, 3, 4, 5], \n",
    "                                 title=f\"{name} Confusion Matrix\", \n",
    "                                 save_path=f'../outputs/figures/{name.lower().replace(\" \", \"_\")}_confusion_matrix.png')\n",
    "\n",
    "\n",
    "results_df = pd.DataFrame(results).T\n",
    "print(\"\\nModel Performance Comparison:\")\n",
    "print(results_df)\n",
    "\n",
    "# Save comparison table\n",
    "results_df.to_csv('../outputs/models/model_comparison_metrics.csv')\n",
    "print(\"\\nModel comparison metrics saved successfully.\")\n",
    "\n",
    "\n",
    "metrics = ['Accuracy', 'Precision', 'Recall', 'F1-Score']\n",
    "results_df.reset_index(inplace=True)\n",
    "results_df = results_df.rename(columns={'index': 'Model'})\n",
    "\n",
    "\n",
    "results_melted = results_df.melt(id_vars='Model', value_vars=metrics, var_name='Metric', value_name='Score') # melt for seaborn\n",
    "\n",
    "plt.figure(figsize=(10, 6))\n",
    "sns.barplot(x='Metric', y='Score', hue='Model', data=results_melted)\n",
    "plt.title(\"Model Performance Comparison\")\n",
    "plt.ylim(0, 1)\n",
    "plt.legend(title='Model')\n",
    "plt.savefig('../outputs/figures/model_performance_comparison.png')\n",
    "plt.show()\n",
    "\n",
    "plt.figure(figsize=(12, 4))\n",
    "sns.heatmap(results_df.set_index('Model'), annot=True, cmap='YlGnBu', fmt=\".4f\")\n",
    "plt.title(\"Model Performance Metrics\")\n",
    "plt.show()\n"
   ]
  }
 ],
 "metadata": {
  "kernelspec": {
   "display_name": "Python 3",
   "language": "python",
   "name": "python3"
  },
  "language_info": {
   "codemirror_mode": {
    "name": "ipython",
    "version": 3
   },
   "file_extension": ".py",
   "mimetype": "text/x-python",
   "name": "python",
   "nbconvert_exporter": "python",
   "pygments_lexer": "ipython3",
   "version": "3.12.7"
  }
 },
 "nbformat": 4,
 "nbformat_minor": 2
}
